{
 "cells": [
  {
   "cell_type": "markdown",
   "id": "5f1a968d-43e4-4ebf-bf37-f0ccf239f87e",
   "metadata": {},
   "source": [
    "# Calibrating the Ion Trap \n",
    "\n",
    "To calibrate the ion trap the following set of equations are required. \n",
    "\n",
    "We begin by loading the reference files \n"
   ]
  },
  {
   "cell_type": "code",
   "execution_count": 11,
   "id": "78bfe6c3-b417-44ae-bbb1-ae46014f15c9",
   "metadata": {},
   "outputs": [],
   "source": [
    "#Importing Libraries\n",
    "import pandas as pd\n",
    "import numpy as np \n",
    "from sympy import *\n",
    "import matplotlib.pyplot as plt\n",
    "from scipy import signal\n",
    "import os\n",
    "\n",
    "#Custom classes/functions \n",
    "import linearfittings as lf\n",
    "import iontrap_functions as iontrap\n",
    "import EBC_functions as ebc\n",
    "\n"
   ]
  },
  {
   "cell_type": "code",
   "execution_count": 2,
   "id": "d79cf143-6784-4f1b-b905-f3dd2d4fad90",
   "metadata": {},
   "outputs": [],
   "source": [
    "data_date = '20220921'\n",
    "data_directory = '/home/levitech/millen2/ElectroMech/Data/' + data_date\n",
    "#Calibration filename\n",
    "calfilename = '/home/levitech/millen2/ElectroMech/Data/20220921/20220921_calibrationdata.csv'\n",
    "\n",
    "#Reference Filename\n",
    "reffilename = '/home/levitech/millen2/ElectroMech/Data/20220921/20220921_reftable.csv'\n",
    "\n",
    "#Simulation Geometric Parameter Filename\n",
    "simPar = '/home/levitech/millen2/PythonLibrary/SimGeometricFactors.csv'\n",
    "\n",
    "# Reading the csv files.\n",
    "caltable = pd.read_csv(calfilename)\n",
    "reftable = pd.read_csv(reffilename)\n",
    "simpara = pd.read_csv(simPar)\n"
   ]
  },
  {
   "cell_type": "markdown",
   "id": "bdf4bb0b-0aad-4f66-b3ba-a0d026c62d61",
   "metadata": {},
   "source": [
    "From reference table we have some of the values we can use for extracting the Q/M values. Recall that \n",
    "\n",
    "$\\omega_i^2 = \\left(\\alpha_i^2\\frac{V^2}{2 \\omega_D^2 r^4}(\\frac{Q}{M})_i^2 + \\beta_i\\frac{2U}{d^2}(\\frac{Q}{M})_i\\right)$\n",
    "\n",
    "where  $i \\in \\{x,y,z\\}$ and refers to the x,y,z secular frequencies of the particle. The above can also be written as: \n",
    "\n",
    "$c = aq^2 + bq$\n",
    "\n",
    "where $q = (Q/M)$ and $a$ and $b$ are the coefficient $(Q/M)_i$. This also forms 3 simultaneous equations which therefore can be solved to work out charge-mass ratio, $q_i$\n",
    "\n"
   ]
  },
  {
   "cell_type": "code",
   "execution_count": 3,
   "id": "837338b7-e8e2-48cb-84ba-2b58f12444ed",
   "metadata": {},
   "outputs": [
    {
     "data": {
      "text/latex": [
       "$\\displaystyle \\left\\{- \\frac{b}{2 a} - \\frac{\\sqrt{4 a c + b^{2}}}{2 a}, - \\frac{b}{2 a} + \\frac{\\sqrt{4 a c + b^{2}}}{2 a}\\right\\}$"
      ],
      "text/plain": [
       "{-b/(2*a) - sqrt(4*a*c + b**2)/(2*a), -b/(2*a) + sqrt(4*a*c + b**2)/(2*a)}"
      ]
     },
     "execution_count": 3,
     "metadata": {},
     "output_type": "execute_result"
    }
   ],
   "source": [
    "# Declaring the symbolic variables\n",
    "a, b, c, x = symbols('a, b, c, x',real=True)\n",
    "\n",
    "# Defining the equation that needs to be solved\n",
    "eqn = a*x**2 + b*x - c;\n",
    "\n",
    "# creater the solver\n",
    "xSol = solveset(eqn,x)\n",
    "xSol"
   ]
  },
  {
   "cell_type": "markdown",
   "id": "fd831a72-968f-479e-81b7-2958ba9ba2f2",
   "metadata": {},
   "source": [
    "Above is the the x solution to the quadratic equation in terms of Q/M. We load and prepare the experimental parameters that need to go in to the a,b,c parameters "
   ]
  },
  {
   "cell_type": "code",
   "execution_count": 4,
   "id": "cd73f033-20b6-472d-94d1-87c23c5059d0",
   "metadata": {},
   "outputs": [
    {
     "name": "stdout",
     "output_type": "stream",
     "text": [
      "                  qm_x                 qm_y                 qm_z\n",
      "0  -0.0240462715889732  -0.0226856155943916  -0.0139022057697716\n",
      "1   0.0195079112120602   0.0209392637618616   0.0152266045277825\n"
     ]
    }
   ],
   "source": [
    "# The Driving frequency in radians\n",
    "wD = 2*np.pi*reftable.Freq_RF\n",
    "\n",
    "# The secular frequencies in radians\n",
    "w0 = 2*np.pi*(pd.concat([reftable.fx,reftable.fy,reftable.fz],ignore_index=True))\n",
    "\n",
    "# determining the coefficients to the quadratic equation \n",
    "aa = (simpara.alpha**2)*((reftable.V0**2)/(2*wD**2*reftable.R**4)).values\n",
    "bb = (simpara.beta)*((2*reftable.U0)/(reftable.Z0**2)).values\n",
    "cc = w0**2\n",
    "\n",
    "# Solving for x in x y and z dimensions\n",
    "sol_x = list(xSol.subs([(a,aa[0]),(b,bb[0]),(c,cc[0])]))\n",
    "sol_y = list(xSol.subs([(a,aa[1]),(b,bb[1]),(c,cc[1])]))\n",
    "sol_z = list(xSol.subs([(a,aa[2]),(b,bb[2]),(c,cc[2])]))\n",
    "\n",
    "# charge mass ration calculated based on x y and z motional dynamics\n",
    "QM = pd.DataFrame( {'qm_x': sol_x,\n",
    "               'qm_y': sol_y,\n",
    "               'qm_z': sol_z })\n",
    "\n",
    "print(QM)"
   ]
  },
  {
   "cell_type": "markdown",
   "id": "313540a2-84b1-4b62-87e5-e16f8c289c7b",
   "metadata": {},
   "source": [
    "The above can also be all wrapped up in a set of functions getQM(), which can be obtained from the iontrap_functions module "
   ]
  },
  {
   "cell_type": "code",
   "execution_count": 5,
   "id": "d642d561-0920-444b-a7fd-1886b309d6b5",
   "metadata": {},
   "outputs": [
    {
     "data": {
      "text/html": [
       "<div>\n",
       "<style scoped>\n",
       "    .dataframe tbody tr th:only-of-type {\n",
       "        vertical-align: middle;\n",
       "    }\n",
       "\n",
       "    .dataframe tbody tr th {\n",
       "        vertical-align: top;\n",
       "    }\n",
       "\n",
       "    .dataframe thead th {\n",
       "        text-align: right;\n",
       "    }\n",
       "</style>\n",
       "<table border=\"1\" class=\"dataframe\">\n",
       "  <thead>\n",
       "    <tr style=\"text-align: right;\">\n",
       "      <th></th>\n",
       "      <th>qm_x</th>\n",
       "      <th>qm_y</th>\n",
       "      <th>qm_z</th>\n",
       "    </tr>\n",
       "  </thead>\n",
       "  <tbody>\n",
       "    <tr>\n",
       "      <th>0</th>\n",
       "      <td>-0.0240462715889732</td>\n",
       "      <td>-0.0226856155943916</td>\n",
       "      <td>-0.0139022057697716</td>\n",
       "    </tr>\n",
       "    <tr>\n",
       "      <th>1</th>\n",
       "      <td>0.0195079112120602</td>\n",
       "      <td>0.0209392637618616</td>\n",
       "      <td>0.0152266045277825</td>\n",
       "    </tr>\n",
       "  </tbody>\n",
       "</table>\n",
       "</div>"
      ],
      "text/plain": [
       "                  qm_x                 qm_y                 qm_z\n",
       "0  -0.0240462715889732  -0.0226856155943916  -0.0139022057697716\n",
       "1   0.0195079112120602   0.0209392637618616   0.0152266045277825"
      ]
     },
     "execution_count": 5,
     "metadata": {},
     "output_type": "execute_result"
    }
   ],
   "source": [
    "# Call the class module ion trap, \n",
    "iontrap.getQM(reftable,simpara)"
   ]
  },
  {
   "cell_type": "markdown",
   "id": "1904e576-5ac3-48d3-aa75-bf3e6817f034",
   "metadata": {},
   "source": [
    "There invariable are two solutions to the charge-mass ratio. Which one is correct since in principle both the charge mass ratio can be negative and positive? "
   ]
  },
  {
   "cell_type": "markdown",
   "id": "34cf8aa5-7d27-47ae-8af5-a5978b740768",
   "metadata": {},
   "source": [
    "## Obtaining the calibration factor \n",
    "\n",
    "To build the calibration factor, the ion trap endcaps apply a voltage shift $\\Delta V$ which is non-zero. This results in a force on the particle and this a displacement ideally along the endcap directions. \n",
    "\n",
    "$ \\Delta x[\\text{metres}] \\eta = \\Delta x[\\text{pixels}]  = \\eta \\frac{Q}{M}\\frac{\\Delta V}{\\omega_0^2 d}$ \n",
    "\n",
    "where $\\Delta x $ is the distance the particle moves due to an applied voltage difference of $\\Delta V$. The distance between the endcap electrodes is given by $d$ and the secular frequency between the endcaps is $\\omega_0$. the $\\eta$ is the conversion parameter converting the measured signal in pixels or volts (depending on the detector being used) to metres. $\\eta$ has the units of $[\\text{pixels}/\\text{metre}]$"
   ]
  },
  {
   "cell_type": "code",
   "execution_count": 50,
   "id": "d2705c19-332e-4d8f-b048-7b2f083cbb0e",
   "metadata": {},
   "outputs": [
    {
     "data": {
      "image/png": "[encoded data removed]",
      "text/plain": [
       "<Figure size 432x288 with 1 Axes>"
      ]
     },
     "metadata": {
      "needs_background": "light"
     },
     "output_type": "display_data"
    }
   ],
   "source": [
    "# if calibration table already exists. then we call that table. \n",
    "\n",
    "x = caltable['meanX']\n",
    "w_x = caltable['stdX']\n",
    "y = caltable['meanY']\n",
    "w_y = caltable['stdY']\n",
    "v = caltable['diff']\n",
    "vInMetres = v\n",
    "\n",
    "xFit = lf.linearfittings(v,x-np.mean(x),w_x)\n",
    "\n",
    "# In principle the same fitting class can be used for determining\n",
    "# fitting to any y = a*X + b equation\n",
    "\n",
    "yFit = lf.linearfittings(v,y,w_x)\n",
    "\n",
    "fig, ax = plt.subplots()\n",
    "ax.plot(v,x, \"xk\")\n",
    "ax.plot(xFit.x, xFit.fitfunc, '--k')\n",
    "ax.plot(xFit.x, xFit.errorfunc, '--k')#\n",
    "plt.xlabel('Applied Voltage')\n",
    "plt.ylabel('Positional Shift in pixels')\n",
    "plt.grid(b=True, which='major', color='grey', linestyle='--')\n",
    "plt.show()"
   ]
  },
  {
   "cell_type": "code",
   "execution_count": 49,
   "id": "entertaining-writer",
   "metadata": {},
   "outputs": [
    {
     "data": {
      "text/plain": [
       "array([-26.52363636, 304.83181818])"
      ]
     },
     "execution_count": 49,
     "metadata": {},
     "output_type": "execute_result"
    }
   ],
   "source": [
    "xFit.coef"
   ]
  },
  {
   "cell_type": "markdown",
   "id": "subsequent-sydney",
   "metadata": {},
   "source": [
    "Now that a value is obtained for the gradient of the fitted line, $g$. This corresponds to conversation factor pixels per metre, $\\eta = (1/qm)*\\omega_0^2*d*g$.\n",
    "\n"
   ]
  },
  {
   "cell_type": "code",
   "execution_count": 28,
   "id": "suburban-atlantic",
   "metadata": {},
   "outputs": [
    {
     "name": "stdout",
     "output_type": "stream",
     "text": [
      "loading  20220921_14-23-11.csv\n",
      "loading  20220921_14-26-27.csv\n",
      "loading  20220921_14-21-59.csv\n",
      "loading  20220921_14-22-45.csv\n",
      "loading  20220921_14-24-24.csv\n",
      "loading  20220921_14-07-49.csv\n",
      "loading  20220921_14-25-15.csv\n",
      "loading  20220921_14-08-47.csv\n",
      "loading  20220921_14-22-22.csv\n",
      "loading  20220921_14-24-50.csv\n",
      "loading  20220921_14-25-39.csv\n",
      "loading  20220921_14-08-17.csv\n",
      "loading  20220921_14-23-38.csv\n"
     ]
    }
   ],
   "source": [
    "# check if the reference file exists and is named correctly\n",
    "# if not reftable['ReferenceSave'][0][0:8] == data_date:\n",
    "#     print('the date in ReferenceSave is not the same as the date the data was taken. Please rectify.')\n",
    "    \n",
    "# reference file name\n",
    "reference_folder = data_directory + '/' + reftable['ReferenceSave'][0] + '/'\n",
    "# print(reference_folder)\n",
    "\n",
    "import pandas as pd\n",
    "\n",
    "dataDir = pd.DataFrame(os.listdir(reference_folder), columns=['filename'])\n",
    "dataDir['folder'] = reference_folder\n",
    "\n",
    "X = pd.DataFrame(columns=['0'])\n",
    "\n",
    "for idx, path in enumerate(dataDir['folder'] + dataDir['filename']):\n",
    "    print('loading ', dataDir.filename[idx])\n",
    "    filename = dataDir.filename[idx]\n",
    "    datatable = ebc.Read_CSV(path) \n",
    "    ID = ebc.get_modeID(datatable)\n",
    "    x,  y, time = ebc.getXYtime(ebc.filter_DataTable_By_ID(datatable,ID[0]))\n",
    "    X[filename] = x/ \n",
    "#     print(x)\n",
    "    "
   ]
  },
  {
   "cell_type": "code",
   "execution_count": 47,
   "id": "optimum-carol",
   "metadata": {},
   "outputs": [
    {
     "data": {
      "text/plain": [
       "Text(0.5, 0, 'Frequency, $\\\\omega/2\\\\pi$ (Hz)')"
      ]
     },
     "execution_count": 47,
     "metadata": {},
     "output_type": "execute_result"
    },
    {
     "data": {
      "image/png": "[encoded data removed]",
      "text/plain": [
       "<Figure size 432x288 with 1 Axes>"
      ]
     },
     "metadata": {
      "needs_background": "light"
     },
     "output_type": "display_data"
    }
   ],
   "source": [
    "fs = 1/time.diff().mode().values\n",
    "f, pxx = signal.periodogram(x,fs)\n",
    "\n",
    "\n",
    "plt.semilogy(f,pxx)\n",
    "plt.xlim(10,200)\n",
    "plt.ylim(1e-7,5e-1)\n",
    "plt.xlabel('Frequency, $\\omega/2\\pi$ (Hz)')\n",
    "plt.ylabel('S_xx($\\omega/2\\pi$) ')\n",
    "\n"
   ]
  },
  {
   "cell_type": "code",
   "execution_count": 35,
   "id": "cosmetic-communication",
   "metadata": {},
   "outputs": [
    {
     "data": {
      "text/plain": [
       "array([0.001])"
      ]
     },
     "execution_count": 35,
     "metadata": {},
     "output_type": "execute_result"
    }
   ],
   "source": [
    "time.diff().mode().values"
   ]
  }
 ],
 "metadata": {
  "kernelspec": {
   "display_name": "Python 3",
   "language": "python",
   "name": "python3"
  },
  "language_info": {
   "codemirror_mode": {
    "name": "ipython",
    "version": 3
   },
   "file_extension": ".py",
   "mimetype": "text/x-python",
   "name": "python",
   "nbconvert_exporter": "python",
   "pygments_lexer": "ipython3",
   "version": "3.6.9"
  }
 },
 "nbformat": 4,
 "nbformat_minor": 5
}
